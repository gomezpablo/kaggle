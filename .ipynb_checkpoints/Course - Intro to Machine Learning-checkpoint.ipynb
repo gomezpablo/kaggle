{
 "cells": [
  {
   "cell_type": "markdown",
   "id": "15636b9b",
   "metadata": {},
   "source": [
    "### Intro to Machine Learning\n",
    "\n",
    "Kaggle course:\n",
    "https://www.kaggle.com/learn/intro-to-machine-learning"
   ]
  },
  {
   "cell_type": "markdown",
   "id": "a73168e0",
   "metadata": {},
   "source": [
    "#### 1. How models work\n",
    "\n",
    "- Capturing patterns from the data - fitting or training the model.\n",
    "- Data to fit a model - training data.\n",
    "- Once the model is fit to the data, we can apply it to new data to predict.\n",
    "- Decission trees: the point at the bottom where a prediction is made is called leaf."
   ]
  },
  {
   "cell_type": "markdown",
   "id": "b2903beb",
   "metadata": {},
   "source": [
    "#### 2. Basic data exploration"
   ]
  },
  {
   "cell_type": "code",
   "execution_count": null,
   "id": "633cd3a6",
   "metadata": {},
   "outputs": [],
   "source": []
  },
  {
   "cell_type": "code",
   "execution_count": null,
   "id": "272423e6",
   "metadata": {},
   "outputs": [],
   "source": []
  },
  {
   "cell_type": "code",
   "execution_count": null,
   "id": "06a35640",
   "metadata": {},
   "outputs": [],
   "source": []
  },
  {
   "cell_type": "code",
   "execution_count": null,
   "id": "a245c642",
   "metadata": {},
   "outputs": [],
   "source": []
  },
  {
   "cell_type": "code",
   "execution_count": null,
   "id": "e56a22f6",
   "metadata": {},
   "outputs": [],
   "source": []
  }
 ],
 "metadata": {
  "kernelspec": {
   "display_name": "Python 3",
   "language": "python",
   "name": "python3"
  },
  "language_info": {
   "codemirror_mode": {
    "name": "ipython",
    "version": 3
   },
   "file_extension": ".py",
   "mimetype": "text/x-python",
   "name": "python",
   "nbconvert_exporter": "python",
   "pygments_lexer": "ipython3",
   "version": "3.8.8"
  }
 },
 "nbformat": 4,
 "nbformat_minor": 5
}
